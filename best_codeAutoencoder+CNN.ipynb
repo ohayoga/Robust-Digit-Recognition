{
 "cells": [
  {
   "cell_type": "code",
   "execution_count": 1,
   "metadata": {},
   "outputs": [
    {
     "name": "stderr",
     "output_type": "stream",
     "text": [
      "/home/sdc/anaconda3/envs/py35/lib/python3.5/site-packages/h5py/__init__.py:36: FutureWarning: Conversion of the second argument of issubdtype from `float` to `np.floating` is deprecated. In future, it will be treated as `np.float64 == np.dtype(float).type`.\n",
      "  from ._conv import register_converters as _register_converters\n",
      "Using TensorFlow backend.\n"
     ]
    }
   ],
   "source": [
    "import os\n",
    "#os.environ[\"CUDA_VISIBLE_DEVICES\"]=\"0\"\n",
    "import pandas as pd\n",
    "import numpy as np\n",
    "import matplotlib.pyplot as plt\n",
    "import matplotlib.image as mpimg\n",
    "import random\n",
    "from scipy.io import loadmat\n",
    "%matplotlib inline\n",
    "\n",
    "np.random.seed(2)\n",
    "import keras\n",
    "from keras.utils.np_utils import to_categorical # convert to one-hot-encoding\n",
    "from keras.models import Sequential\n",
    "from keras.layers import Dense, Dropout, Flatten, Conv2D, MaxPool2D, BatchNormalization\n",
    "from keras.optimizers import Adam\n",
    "from keras.preprocessing.image import ImageDataGenerator\n",
    "from keras.callbacks import LearningRateScheduler\n",
    "from sklearn.model_selection import train_test_split\n",
    "import itertools\n",
    "from keras.layers import Activation, Flatten\n",
    "from keras.layers.convolutional import Conv2D, MaxPooling2D, UpSampling2D\n",
    "from keras.layers import Input\n",
    "\n",
    "from keras import utils as np_utils\n",
    "from keras.models import Model\n",
    "from keras.optimizers import RMSprop\n",
    "from keras.callbacks import ReduceLROnPlateau\n",
    "\n",
    "from keras import regularizers\n",
    "from keras import metrics\n",
    "from scipy import misc\n",
    "\n",
    "from keras.callbacks import TensorBoard"
   ]
  },
  {
   "cell_type": "code",
   "execution_count": 2,
   "metadata": {},
   "outputs": [],
   "source": [
    "# load data\n",
    "data_path = \"./data.mat\"\n",
    "data_raw = loadmat(data_path)\n",
    "\n",
    "train_img = data_raw[\"train_img\"]\n",
    "test_img = data_raw[\"test_img\"]\n",
    "train_lbl = data_raw[\"train_lbl\"]"
   ]
  },
  {
   "cell_type": "markdown",
   "metadata": {},
   "source": [
    "## add noise"
   ]
  },
  {
   "cell_type": "code",
   "execution_count": 3,
   "metadata": {},
   "outputs": [],
   "source": [
    "def saltpepper(trn_data): \n",
    "    # input is a n*28*28*1 numpy array, reshape each row to a 28*28 matrix\n",
    "    row = trn_data.shape[0]\n",
    "    for i in range(row):\n",
    "        t = trn_data[i]\n",
    "        t = t.reshape((28, 28))\n",
    "        val = [1, 0]\n",
    "        ver_idx = random.randint(4, 15)\n",
    "        hor_idx = random.randint(4, 15)\n",
    "\n",
    "        t[ver_idx:(ver_idx+10), hor_idx:(hor_idx+10)] = np.random.choice(val, size=(10, 10))\n",
    "        \n",
    "        t = t.reshape((28,28,1))\n",
    "        trn_data[i] = t \n",
    "    return trn_data\n",
    "\n",
    "noise_factor = 100/255\n",
    "def gauss(trn_data):\n",
    "    # input is a n*28*28*1 numpy array, reshape each row to a 28*28 matrix\n",
    "    row = trn_data.shape[0]\n",
    "    for i in range(row):\n",
    "        t = trn_data[i]\n",
    "        t = t.reshape((28, 28))\n",
    "        t[4:24, 4:24] = t[4:24, 4:24] + noise_factor * np.random.normal(loc=0.0, scale=1.0, size=(20,20)) \n",
    "\n",
    "        t = t.reshape((28,28,1))\n",
    "        trn_data[i] = t\n",
    "    return trn_data"
   ]
  },
  {
   "cell_type": "code",
   "execution_count": 4,
   "metadata": {},
   "outputs": [
    {
     "name": "stdout",
     "output_type": "stream",
     "text": [
      "(80000, 28, 28, 1)\n",
      "(80000, 28, 28, 1)\n"
     ]
    }
   ],
   "source": [
    "random_seed = 2\n",
    "\n",
    "x_train_nor = np.reshape(train_img[0:20000], (len(train_img[0:20000]), 28, 28, 1))/255\n",
    "x_train_sp = np.reshape(train_img[20000:50000], (len(train_img[20000:50000]), 28, 28, 1))/255\n",
    "x_train_gs = np.reshape(train_img[20000:50000], (len(train_img[20000:50000]), 28, 28, 1))/255\n",
    "\n",
    "ae_x_lbl = np.concatenate((x_train_nor, x_train_sp, x_train_gs)) # \"labels\" for auto encoder\n",
    "\n",
    "ae_x_train_sp = saltpepper(x_train_sp)\n",
    "ae_x_train_gs = np.clip(gauss(x_train_gs), 0., 1.)\n",
    "\n",
    "ae_x_trn = np.concatenate((x_train_nor, ae_x_train_sp, ae_x_train_gs)) # \"features\" for auto encoder\n",
    "\n",
    "print(ae_x_lbl.shape)\n",
    "print(ae_x_trn.shape)"
   ]
  },
  {
   "cell_type": "markdown",
   "metadata": {},
   "source": [
    "### Train Auto Encoder"
   ]
  },
  {
   "cell_type": "code",
   "execution_count": 5,
   "metadata": {},
   "outputs": [
    {
     "name": "stdout",
     "output_type": "stream",
     "text": [
      "Train on 72000 samples, validate on 8000 samples\n",
      "Epoch 1/80\n",
      "72000/72000 [==============================] - 6s 85us/step - loss: 0.1490 - val_loss: 0.1174\n",
      "Epoch 2/80\n",
      "72000/72000 [==============================] - 6s 77us/step - loss: 0.1141 - val_loss: 0.1084\n",
      "Epoch 3/80\n",
      "72000/72000 [==============================] - 6s 78us/step - loss: 0.1079 - val_loss: 0.1047\n",
      "Epoch 4/80\n",
      "72000/72000 [==============================] - 5s 73us/step - loss: 0.1043 - val_loss: 0.1048\n",
      "Epoch 5/80\n",
      "72000/72000 [==============================] - 5s 71us/step - loss: 0.1022 - val_loss: 0.1008\n",
      "Epoch 6/80\n",
      "72000/72000 [==============================] - 5s 73us/step - loss: 0.1006 - val_loss: 0.1011\n",
      "Epoch 7/80\n",
      "72000/72000 [==============================] - 5s 73us/step - loss: 0.0992 - val_loss: 0.0989\n",
      "Epoch 8/80\n",
      "72000/72000 [==============================] - 5s 74us/step - loss: 0.0981 - val_loss: 0.0974\n",
      "Epoch 9/80\n",
      "72000/72000 [==============================] - 5s 74us/step - loss: 0.0973 - val_loss: 0.0982\n",
      "Epoch 10/80\n",
      "72000/72000 [==============================] - 5s 73us/step - loss: 0.0965 - val_loss: 0.0950\n",
      "Epoch 11/80\n",
      "72000/72000 [==============================] - 5s 68us/step - loss: 0.0957 - val_loss: 0.0969\n",
      "Epoch 12/80\n",
      "72000/72000 [==============================] - 5s 70us/step - loss: 0.0953 - val_loss: 0.0953\n",
      "Epoch 13/80\n",
      "72000/72000 [==============================] - 5s 73us/step - loss: 0.0948 - val_loss: 0.0954\n",
      "Epoch 14/80\n",
      "72000/72000 [==============================] - 5s 74us/step - loss: 0.0942 - val_loss: 0.0936\n",
      "Epoch 15/80\n",
      "72000/72000 [==============================] - 5s 74us/step - loss: 0.0938 - val_loss: 0.0936\n",
      "Epoch 16/80\n",
      "72000/72000 [==============================] - 5s 74us/step - loss: 0.0934 - val_loss: 0.0934\n",
      "Epoch 17/80\n",
      "72000/72000 [==============================] - 5s 73us/step - loss: 0.0932 - val_loss: 0.0943\n",
      "Epoch 18/80\n",
      "72000/72000 [==============================] - 5s 74us/step - loss: 0.0928 - val_loss: 0.0926\n",
      "Epoch 19/80\n",
      "72000/72000 [==============================] - 5s 74us/step - loss: 0.0925 - val_loss: 0.0922\n",
      "Epoch 20/80\n",
      "72000/72000 [==============================] - 5s 73us/step - loss: 0.0922 - val_loss: 0.0918\n",
      "Epoch 21/80\n",
      "72000/72000 [==============================] - 5s 74us/step - loss: 0.0920 - val_loss: 0.0910\n",
      "Epoch 22/80\n",
      "72000/72000 [==============================] - 5s 74us/step - loss: 0.0918 - val_loss: 0.0917\n",
      "Epoch 23/80\n",
      "72000/72000 [==============================] - 5s 72us/step - loss: 0.0916 - val_loss: 0.0911\n",
      "Epoch 24/80\n",
      "72000/72000 [==============================] - 5s 73us/step - loss: 0.0913 - val_loss: 0.0912\n",
      "Epoch 25/80\n",
      "72000/72000 [==============================] - 5s 71us/step - loss: 0.0912 - val_loss: 0.0909\n",
      "Epoch 26/80\n",
      "72000/72000 [==============================] - 5s 66us/step - loss: 0.0909 - val_loss: 0.0902\n",
      "Epoch 27/80\n",
      "72000/72000 [==============================] - 5s 66us/step - loss: 0.0908 - val_loss: 0.0904\n",
      "Epoch 28/80\n",
      "72000/72000 [==============================] - 5s 66us/step - loss: 0.0906 - val_loss: 0.0904\n",
      "Epoch 29/80\n",
      "72000/72000 [==============================] - 5s 66us/step - loss: 0.0905 - val_loss: 0.0901\n",
      "Epoch 30/80\n",
      "72000/72000 [==============================] - 5s 66us/step - loss: 0.0903 - val_loss: 0.0911\n",
      "Epoch 31/80\n",
      "72000/72000 [==============================] - 5s 66us/step - loss: 0.0903 - val_loss: 0.0906\n",
      "Epoch 32/80\n",
      "72000/72000 [==============================] - 5s 66us/step - loss: 0.0900 - val_loss: 0.0902\n",
      "Epoch 33/80\n",
      "72000/72000 [==============================] - 5s 66us/step - loss: 0.0899 - val_loss: 0.0901\n",
      "Epoch 34/80\n",
      "72000/72000 [==============================] - 5s 66us/step - loss: 0.0898 - val_loss: 0.0906\n",
      "Epoch 35/80\n",
      "72000/72000 [==============================] - 5s 66us/step - loss: 0.0898 - val_loss: 0.0897\n",
      "Epoch 36/80\n",
      "72000/72000 [==============================] - 5s 66us/step - loss: 0.0897 - val_loss: 0.0910\n",
      "Epoch 37/80\n",
      "72000/72000 [==============================] - 5s 66us/step - loss: 0.0895 - val_loss: 0.0893\n",
      "Epoch 38/80\n",
      "72000/72000 [==============================] - 5s 66us/step - loss: 0.0894 - val_loss: 0.0896\n",
      "Epoch 39/80\n",
      "72000/72000 [==============================] - 5s 66us/step - loss: 0.0893 - val_loss: 0.0891\n",
      "Epoch 40/80\n",
      "72000/72000 [==============================] - 5s 67us/step - loss: 0.0892 - val_loss: 0.0889\n",
      "Epoch 41/80\n",
      "72000/72000 [==============================] - 5s 69us/step - loss: 0.0891 - val_loss: 0.0901\n",
      "Epoch 42/80\n",
      "72000/72000 [==============================] - 5s 74us/step - loss: 0.0891 - val_loss: 0.0890\n",
      "Epoch 43/80\n",
      "72000/72000 [==============================] - 5s 75us/step - loss: 0.0889 - val_loss: 0.0892\n",
      "Epoch 44/80\n",
      "72000/72000 [==============================] - 5s 75us/step - loss: 0.0890 - val_loss: 0.0894\n",
      "Epoch 45/80\n",
      "72000/72000 [==============================] - 5s 75us/step - loss: 0.0888 - val_loss: 0.0897\n",
      "Epoch 46/80\n",
      "72000/72000 [==============================] - 5s 74us/step - loss: 0.0887 - val_loss: 0.0898\n",
      "Epoch 47/80\n",
      "72000/72000 [==============================] - 5s 75us/step - loss: 0.0887 - val_loss: 0.0884\n",
      "Epoch 48/80\n",
      "72000/72000 [==============================] - 5s 74us/step - loss: 0.0886 - val_loss: 0.0889\n",
      "Epoch 49/80\n",
      "72000/72000 [==============================] - 5s 74us/step - loss: 0.0885 - val_loss: 0.0883\n",
      "Epoch 50/80\n",
      "72000/72000 [==============================] - 5s 75us/step - loss: 0.0884 - val_loss: 0.0894\n",
      "Epoch 51/80\n",
      "72000/72000 [==============================] - 5s 74us/step - loss: 0.0884 - val_loss: 0.0885\n",
      "Epoch 52/80\n",
      "72000/72000 [==============================] - 5s 74us/step - loss: 0.0884 - val_loss: 0.0890\n",
      "Epoch 53/80\n",
      "72000/72000 [==============================] - 5s 74us/step - loss: 0.0883 - val_loss: 0.0912\n",
      "Epoch 54/80\n",
      "72000/72000 [==============================] - 5s 73us/step - loss: 0.0882 - val_loss: 0.0881\n",
      "Epoch 55/80\n",
      "72000/72000 [==============================] - 5s 74us/step - loss: 0.0882 - val_loss: 0.0894\n",
      "Epoch 56/80\n",
      "72000/72000 [==============================] - 5s 74us/step - loss: 0.0881 - val_loss: 0.0881\n",
      "Epoch 57/80\n",
      "72000/72000 [==============================] - 5s 75us/step - loss: 0.0880 - val_loss: 0.0891\n",
      "Epoch 58/80\n",
      "72000/72000 [==============================] - 5s 74us/step - loss: 0.0880 - val_loss: 0.0884\n",
      "Epoch 59/80\n",
      "72000/72000 [==============================] - 5s 74us/step - loss: 0.0879 - val_loss: 0.0879\n",
      "Epoch 60/80\n",
      "72000/72000 [==============================] - 5s 73us/step - loss: 0.0879 - val_loss: 0.0882\n",
      "Epoch 61/80\n",
      "72000/72000 [==============================] - 5s 71us/step - loss: 0.0878 - val_loss: 0.0895\n",
      "Epoch 62/80\n",
      "72000/72000 [==============================] - 5s 74us/step - loss: 0.0877 - val_loss: 0.0881\n",
      "Epoch 63/80\n",
      "72000/72000 [==============================] - 5s 74us/step - loss: 0.0877 - val_loss: 0.0889\n",
      "Epoch 64/80\n",
      "72000/72000 [==============================] - 5s 74us/step - loss: 0.0876 - val_loss: 0.0877\n",
      "Epoch 65/80\n",
      "72000/72000 [==============================] - 5s 74us/step - loss: 0.0876 - val_loss: 0.0876\n",
      "Epoch 66/80\n",
      "72000/72000 [==============================] - 5s 75us/step - loss: 0.0876 - val_loss: 0.0875\n",
      "Epoch 67/80\n",
      "72000/72000 [==============================] - 5s 70us/step - loss: 0.0876 - val_loss: 0.0882\n",
      "Epoch 68/80\n",
      "72000/72000 [==============================] - 5s 71us/step - loss: 0.0875 - val_loss: 0.0881\n",
      "Epoch 69/80\n",
      "72000/72000 [==============================] - 5s 74us/step - loss: 0.0875 - val_loss: 0.0874\n",
      "Epoch 70/80\n",
      "72000/72000 [==============================] - 5s 74us/step - loss: 0.0874 - val_loss: 0.0880\n",
      "Epoch 71/80\n",
      "72000/72000 [==============================] - 5s 74us/step - loss: 0.0873 - val_loss: 0.0875\n",
      "Epoch 72/80\n",
      "72000/72000 [==============================] - 5s 74us/step - loss: 0.0874 - val_loss: 0.0878\n",
      "Epoch 73/80\n",
      "72000/72000 [==============================] - 5s 75us/step - loss: 0.0873 - val_loss: 0.0873\n",
      "Epoch 74/80\n",
      "72000/72000 [==============================] - 5s 74us/step - loss: 0.0872 - val_loss: 0.0874\n",
      "Epoch 75/80\n",
      "72000/72000 [==============================] - 5s 73us/step - loss: 0.0872 - val_loss: 0.0879\n",
      "Epoch 76/80\n",
      "72000/72000 [==============================] - 5s 74us/step - loss: 0.0872 - val_loss: 0.0871\n",
      "Epoch 77/80\n",
      "72000/72000 [==============================] - 5s 74us/step - loss: 0.0872 - val_loss: 0.0877\n"
     ]
    },
    {
     "name": "stdout",
     "output_type": "stream",
     "text": [
      "Epoch 78/80\n",
      "72000/72000 [==============================] - 5s 75us/step - loss: 0.0871 - val_loss: 0.0881\n",
      "Epoch 79/80\n",
      "72000/72000 [==============================] - 5s 74us/step - loss: 0.0871 - val_loss: 0.0873\n",
      "Epoch 80/80\n",
      "72000/72000 [==============================] - 5s 74us/step - loss: 0.0870 - val_loss: 0.0879\n"
     ]
    },
    {
     "data": {
      "text/plain": [
       "<keras.callbacks.History at 0x7f322c3412b0>"
      ]
     },
     "execution_count": 5,
     "metadata": {},
     "output_type": "execute_result"
    }
   ],
   "source": [
    "#split data\n",
    "ae_trn_X, ae_val_X, ae_trn_lb, ae_val_lb = train_test_split(ae_x_trn,\n",
    "                                                             ae_x_lbl, \n",
    "                                                             test_size=0.1, \n",
    "                                                             random_state=13)\n",
    "\n",
    "input_img = Input(shape=(28, 28, 1))  # adapt this if using `channels_first` image data format\n",
    "\n",
    "x = Conv2D(32, (3, 3), activation='relu', padding='same')(input_img)\n",
    "x = MaxPooling2D((2, 2), padding='same')(x)\n",
    "x = Conv2D(32, (3, 3), activation='relu', padding='same')(x)\n",
    "encoded = MaxPooling2D((2, 2), padding='same')(x)\n",
    "\n",
    "# at this point the representation is (7, 7, 32)\n",
    "\n",
    "x = Conv2D(32, (3, 3), activation='relu', padding='same')(encoded)\n",
    "x = UpSampling2D((2, 2))(x)\n",
    "x = Conv2D(32, (3, 3), activation='relu', padding='same')(x)\n",
    "x = UpSampling2D((2, 2))(x)\n",
    "decoded = Conv2D(1, (3, 3), activation='sigmoid', padding='same')(x)\n",
    "\n",
    "autoencoder = Model(input_img, decoded)\n",
    "autoencoder.compile(optimizer='adadelta', loss='binary_crossentropy')\n",
    "\n",
    "autoencoder.fit(ae_trn_X, ae_trn_lb,\n",
    "                epochs=80,\n",
    "                batch_size=128,\n",
    "                shuffle=True,\n",
    "                validation_data=(ae_val_X, ae_val_lb),\n",
    "                callbacks=[TensorBoard(log_dir='/tmp/tb', histogram_freq=0, write_graph=False)])\n",
    "\n"
   ]
  },
  {
   "cell_type": "markdown",
   "metadata": {},
   "source": [
    "### Test Auto Encoder on the Test Set"
   ]
  },
  {
   "cell_type": "code",
   "execution_count": 6,
   "metadata": {},
   "outputs": [
    {
     "data": {
      "image/png": "[encoded data removed]",
      "text/plain": [
       "<matplotlib.figure.Figure at 0x7f322eab3278>"
      ]
     },
     "metadata": {},
     "output_type": "display_data"
    }
   ],
   "source": [
    "X_tst = np.reshape(test_img, (len(test_img), 28, 28, 1))/255 \n",
    "\n",
    "clean_tst = autoencoder.predict(X_tst, batch_size=128)\n",
    "\n",
    "length = clean_tst.shape[0]\n",
    "result_tst = np.zeros(shape=(length, 784))\n",
    "for i in range(length):\n",
    "    result_tst[i,:] = result_tst[i,:] + clean_tst[i].reshape(1, 784)\n",
    "\n",
    "result_viz = result_tst\n",
    "plt.figure(figsize=(20,10))\n",
    "for index, image in enumerate(result_viz[25:50]):\n",
    "    plt.subplot(5, 5, index + 1)\n",
    "    plt.imshow(np.reshape(image, (28,28)), cmap=plt.cm.gray)"
   ]
  },
  {
   "cell_type": "markdown",
   "metadata": {},
   "source": [
    "### CNN-Training Labels"
   ]
  },
  {
   "cell_type": "code",
   "execution_count": 7,
   "metadata": {},
   "outputs": [
    {
     "data": {
      "text/plain": [
       "(80000, 10)"
      ]
     },
     "execution_count": 7,
     "metadata": {},
     "output_type": "execute_result"
    }
   ],
   "source": [
    "# Encode labels to one hot vectors (ex : 2 -> [0,0,1,0,0,0,0,0,0,0])\n",
    "Y_trn_nor = train_lbl[0:20000]\n",
    "Y_trn_sp = train_lbl[20000:50000]\n",
    "Y_trn_gs = train_lbl[20000:50000]\n",
    "\n",
    "Y_trn_nor = np_utils.to_categorical(Y_trn_nor, num_classes = 10)\n",
    "Y_trn_sp = np_utils.to_categorical(Y_trn_sp, num_classes = 10)\n",
    "Y_trn_gs = np_utils.to_categorical(Y_trn_gs, num_classes = 10)\n",
    "\n",
    "Y_trn_all = np.concatenate((Y_trn_nor, Y_trn_sp, Y_trn_gs))\n",
    "Y_trn_all.shape"
   ]
  },
  {
   "cell_type": "markdown",
   "metadata": {},
   "source": [
    "### CNN-Training Features"
   ]
  },
  {
   "cell_type": "code",
   "execution_count": 8,
   "metadata": {},
   "outputs": [
    {
     "data": {
      "text/plain": [
       "(80000, 28, 28, 1)"
      ]
     },
     "execution_count": 8,
     "metadata": {},
     "output_type": "execute_result"
    }
   ],
   "source": [
    "X_trn_all = autoencoder.predict(ae_x_trn, batch_size=128)\n",
    "# X_tst is clean_tst\n",
    "X_trn_all.shape"
   ]
  },
  {
   "cell_type": "code",
   "execution_count": 9,
   "metadata": {},
   "outputs": [
    {
     "data": {
      "image/png": "[encoded data removed]",
      "text/plain": [
       "<matplotlib.figure.Figure at 0x7f3108e807f0>"
      ]
     },
     "metadata": {},
     "output_type": "display_data"
    }
   ],
   "source": [
    "plt.figure(figsize=(20,10))\n",
    "for index, image in enumerate(X_trn_all[random.sample(range(1, 60000), 25)]):\n",
    "    plt.subplot(5, 5, index + 1)\n",
    "    plt.imshow(np.reshape(image, (28,28)), cmap=plt.cm.gray)"
   ]
  },
  {
   "cell_type": "markdown",
   "metadata": {},
   "source": [
    "## split data"
   ]
  },
  {
   "cell_type": "code",
   "execution_count": 10,
   "metadata": {},
   "outputs": [],
   "source": [
    "X_trn, X_val, Y_trn, Y_val = train_test_split(X_trn_all, Y_trn_all, test_size = 0.1, random_state=random_seed)"
   ]
  },
  {
   "cell_type": "markdown",
   "metadata": {},
   "source": [
    "# CNN"
   ]
  },
  {
   "cell_type": "code",
   "execution_count": 11,
   "metadata": {},
   "outputs": [
    {
     "name": "stdout",
     "output_type": "stream",
     "text": [
      "_________________________________________________________________\n",
      "Layer (type)                 Output Shape              Param #   \n",
      "=================================================================\n",
      "conv2d_6 (Conv2D)            (None, 24, 24, 32)        832       \n",
      "_________________________________________________________________\n",
      "conv2d_7 (Conv2D)            (None, 24, 24, 32)        9248      \n",
      "_________________________________________________________________\n",
      "max_pooling2d_3 (MaxPooling2 (None, 12, 12, 32)        0         \n",
      "_________________________________________________________________\n",
      "dropout_1 (Dropout)          (None, 12, 12, 32)        0         \n",
      "_________________________________________________________________\n",
      "conv2d_8 (Conv2D)            (None, 12, 12, 64)        18496     \n",
      "_________________________________________________________________\n",
      "conv2d_9 (Conv2D)            (None, 12, 12, 64)        36928     \n",
      "_________________________________________________________________\n",
      "max_pooling2d_4 (MaxPooling2 (None, 6, 6, 64)          0         \n",
      "_________________________________________________________________\n",
      "dropout_2 (Dropout)          (None, 6, 6, 64)          0         \n",
      "_________________________________________________________________\n",
      "batch_normalization_1 (Batch (None, 6, 6, 64)          256       \n",
      "_________________________________________________________________\n",
      "flatten_1 (Flatten)          (None, 2304)              0         \n",
      "_________________________________________________________________\n",
      "dense_1 (Dense)              (None, 512)               1180160   \n",
      "_________________________________________________________________\n",
      "dropout_3 (Dropout)          (None, 512)               0         \n",
      "_________________________________________________________________\n",
      "dense_2 (Dense)              (None, 10)                5130      \n",
      "=================================================================\n",
      "Total params: 1,251,050\n",
      "Trainable params: 1,250,922\n",
      "Non-trainable params: 128\n",
      "_________________________________________________________________\n"
     ]
    }
   ],
   "source": [
    "epochs = 30 \n",
    "batch_size = 64\n",
    "num_classes = 10\n",
    "\n",
    "\n",
    "input_shape = (28, 28, 1)\n",
    "model = Sequential()\n",
    "model.add(Conv2D(filters = 32, kernel_size = (5,5), padding = 'Valid', activation ='relu', input_shape = (28,28,1)))\n",
    "model.add(Conv2D(filters = 32, kernel_size = (3,3), padding = 'Same',  activation ='relu'))\n",
    "model.add(MaxPool2D(pool_size=(2,2)))\n",
    "model.add(Dropout(0.2))\n",
    "\n",
    "model.add(Conv2D(filters = 64, kernel_size = (3,3), padding = 'Same', activation ='relu'))\n",
    "model.add(Conv2D(filters = 64, kernel_size = (3,3), padding = 'Same', activation ='relu'))\n",
    "model.add(MaxPool2D(pool_size=(2,2), strides=(2,2)))\n",
    "model.add(Dropout(0.2))\n",
    "model.add(BatchNormalization())\n",
    "\n",
    "model.add(Flatten())\n",
    "model.add(Dense(512, activation = \"relu\"))\n",
    "model.add(Dropout(0.5))\n",
    "model.add(Dense(10, activation = \"softmax\"))\n",
    "\n",
    "model.compile(loss='categorical_crossentropy', optimizer = Adam(lr=1e-3), metrics=[\"accuracy\"])\n",
    "model.summary()\n",
    "learning_rate_reduction = ReduceLROnPlateau(monitor='val_acc', \n",
    "                                            patience=2, \n",
    "                                            verbose=0, \n",
    "                                            factor=0.2, \n",
    "                                            min_lr=0.00001)\n"
   ]
  },
  {
   "cell_type": "code",
   "execution_count": 12,
   "metadata": {},
   "outputs": [],
   "source": [
    "datagen = ImageDataGenerator(\n",
    "        featurewise_center=False,  # set input mean to 0 over the dataset\n",
    "        samplewise_center=False,  # set each sample mean to 0\n",
    "        featurewise_std_normalization=False,  # divide inputs by std of the dataset\n",
    "        samplewise_std_normalization=False,  # divide each input by its std\n",
    "        zca_whitening=False,  # apply ZCA whitening\n",
    "        rotation_range=10,  # randomly rotate images in the range (degrees, 0 to 180)\n",
    "        zoom_range = 0.1, # Randomly zoom image \n",
    "        width_shift_range=0.1,  # randomly shift images horizontally (fraction of total width)\n",
    "        height_shift_range=0.1,  # randomly shift images vertically (fraction of total height)\n",
    "        horizontal_flip=False,  # randomly flip images\n",
    "        vertical_flip=False)  # randomly flip images\n",
    "\n",
    "\n",
    "datagen.fit(X_trn)"
   ]
  },
  {
   "cell_type": "code",
   "execution_count": 13,
   "metadata": {
    "scrolled": true
   },
   "outputs": [
    {
     "name": "stdout",
     "output_type": "stream",
     "text": [
      "Epoch 1/30\n",
      "1125/1125 [==============================] - 15s 13ms/step - loss: 0.3410 - acc: 0.8908 - val_loss: 0.1972 - val_acc: 0.9396\n",
      "Epoch 2/30\n",
      "1125/1125 [==============================] - 13s 12ms/step - loss: 0.2052 - acc: 0.9360 - val_loss: 0.1215 - val_acc: 0.9619\n",
      "Epoch 3/30\n",
      "1125/1125 [==============================] - 13s 12ms/step - loss: 0.1818 - acc: 0.9440 - val_loss: 0.1183 - val_acc: 0.9624\n",
      "Epoch 4/30\n",
      "1125/1125 [==============================] - 13s 12ms/step - loss: 0.1708 - acc: 0.9462 - val_loss: 0.1143 - val_acc: 0.9639\n",
      "Epoch 5/30\n",
      "1125/1125 [==============================] - 13s 12ms/step - loss: 0.1596 - acc: 0.9504 - val_loss: 0.1095 - val_acc: 0.9653\n",
      "Epoch 6/30\n",
      "1125/1125 [==============================] - 13s 12ms/step - loss: 0.1562 - acc: 0.9515 - val_loss: 0.0898 - val_acc: 0.9724\n",
      "Epoch 7/30\n",
      "1125/1125 [==============================] - 13s 12ms/step - loss: 0.1464 - acc: 0.9548 - val_loss: 0.0899 - val_acc: 0.9738\n",
      "Epoch 8/30\n",
      "1125/1125 [==============================] - 13s 12ms/step - loss: 0.1416 - acc: 0.9563 - val_loss: 0.0924 - val_acc: 0.9710\n",
      "Epoch 9/30\n",
      "1125/1125 [==============================] - 13s 11ms/step - loss: 0.1361 - acc: 0.9580 - val_loss: 0.0849 - val_acc: 0.9734\n",
      "Epoch 10/30\n",
      "1125/1125 [==============================] - 13s 12ms/step - loss: 0.1292 - acc: 0.9582 - val_loss: 0.0892 - val_acc: 0.9718\n",
      "Epoch 11/30\n",
      "1125/1125 [==============================] - 13s 12ms/step - loss: 0.1073 - acc: 0.9652 - val_loss: 0.0724 - val_acc: 0.9772\n",
      "Epoch 12/30\n",
      "1125/1125 [==============================] - 13s 12ms/step - loss: 0.1027 - acc: 0.9674 - val_loss: 0.0705 - val_acc: 0.9770\n",
      "Epoch 13/30\n",
      "1125/1125 [==============================] - 13s 12ms/step - loss: 0.0986 - acc: 0.9682 - val_loss: 0.0700 - val_acc: 0.9779\n",
      "Epoch 14/30\n",
      "1125/1125 [==============================] - 14s 13ms/step - loss: 0.0934 - acc: 0.9697 - val_loss: 0.0722 - val_acc: 0.9775\n",
      "Epoch 15/30\n",
      "1125/1125 [==============================] - 14s 12ms/step - loss: 0.0917 - acc: 0.9705 - val_loss: 0.0695 - val_acc: 0.9778\n",
      "Epoch 16/30\n",
      "1125/1125 [==============================] - 13s 12ms/step - loss: 0.0917 - acc: 0.9704 - val_loss: 0.0678 - val_acc: 0.9781\n",
      "Epoch 17/30\n",
      "1125/1125 [==============================] - 13s 12ms/step - loss: 0.0898 - acc: 0.9713 - val_loss: 0.0667 - val_acc: 0.9801\n",
      "Epoch 18/30\n",
      "1125/1125 [==============================] - 14s 12ms/step - loss: 0.0893 - acc: 0.9708 - val_loss: 0.0661 - val_acc: 0.9791\n",
      "Epoch 19/30\n",
      "1125/1125 [==============================] - 13s 12ms/step - loss: 0.0881 - acc: 0.9715 - val_loss: 0.0685 - val_acc: 0.9785\n",
      "Epoch 20/30\n",
      "1125/1125 [==============================] - 13s 12ms/step - loss: 0.0863 - acc: 0.9724 - val_loss: 0.0670 - val_acc: 0.9778\n",
      "Epoch 21/30\n",
      "1125/1125 [==============================] - 13s 12ms/step - loss: 0.0814 - acc: 0.9731 - val_loss: 0.0643 - val_acc: 0.9785\n",
      "Epoch 22/30\n",
      "1125/1125 [==============================] - 13s 12ms/step - loss: 0.0808 - acc: 0.9737 - val_loss: 0.0650 - val_acc: 0.9789\n",
      "Epoch 23/30\n",
      "1125/1125 [==============================] - 14s 12ms/step - loss: 0.0813 - acc: 0.9739 - val_loss: 0.0638 - val_acc: 0.9795\n",
      "Epoch 24/30\n",
      "1125/1125 [==============================] - 13s 12ms/step - loss: 0.0801 - acc: 0.9727 - val_loss: 0.0636 - val_acc: 0.9792\n",
      "Epoch 25/30\n",
      "1125/1125 [==============================] - 13s 12ms/step - loss: 0.0810 - acc: 0.9734 - val_loss: 0.0634 - val_acc: 0.9794\n",
      "Epoch 26/30\n",
      "1125/1125 [==============================] - 13s 12ms/step - loss: 0.0817 - acc: 0.9731 - val_loss: 0.0635 - val_acc: 0.9792\n",
      "Epoch 27/30\n",
      "1125/1125 [==============================] - 13s 12ms/step - loss: 0.0783 - acc: 0.9741 - val_loss: 0.0637 - val_acc: 0.9792\n",
      "Epoch 28/30\n",
      "1125/1125 [==============================] - 13s 12ms/step - loss: 0.0817 - acc: 0.9730 - val_loss: 0.0635 - val_acc: 0.9792\n",
      "Epoch 29/30\n",
      "1125/1125 [==============================] - 13s 12ms/step - loss: 0.0805 - acc: 0.9737 - val_loss: 0.0635 - val_acc: 0.9792\n",
      "Epoch 30/30\n",
      "1125/1125 [==============================] - 13s 12ms/step - loss: 0.0827 - acc: 0.9734 - val_loss: 0.0631 - val_acc: 0.9795\n"
     ]
    }
   ],
   "source": [
    "# Fit the model\n",
    "\n",
    "history = model.fit_generator(datagen.flow(X_trn,Y_trn, batch_size=batch_size),\n",
    "                              epochs = epochs, validation_data = (X_val,Y_val),\n",
    "                              verbose = 1, steps_per_epoch=X_trn.shape[0] // batch_size\n",
    "                              , callbacks=[learning_rate_reduction],)\n"
   ]
  },
  {
   "cell_type": "code",
   "execution_count": 14,
   "metadata": {},
   "outputs": [],
   "source": [
    "results = model.predict(clean_tst)\n",
    "results = np.argmax(results,axis = 1)\n",
    "\n",
    "results = pd.Series(results,name=\"Prediction\")\n",
    "submission = pd.concat([pd.Series(range(1,20001),name = \"ID\"),results],axis = 1)\n",
    "\n",
    "submission.to_csv(\"CNN.csv\",index=False)"
   ]
  }
 ],
 "metadata": {
  "kernelspec": {
   "display_name": "Python 3",
   "language": "python",
   "name": "python3"
  },
  "language_info": {
   "codemirror_mode": {
    "name": "ipython",
    "version": 3
   },
   "file_extension": ".py",
   "mimetype": "text/x-python",
   "name": "python",
   "nbconvert_exporter": "python",
   "pygments_lexer": "ipython3",
   "version": "3.6.5"
  }
 },
 "nbformat": 4,
 "nbformat_minor": 2
}
