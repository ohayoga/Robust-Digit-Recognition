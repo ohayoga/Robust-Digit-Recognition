{
 "cells": [
  {
   "cell_type": "code",
   "execution_count": 1,
   "metadata": {},
   "outputs": [
    {
     "name": "stderr",
     "output_type": "stream",
     "text": [
      "/home/sdc/anaconda3/envs/py35/lib/python3.5/site-packages/h5py/__init__.py:36: FutureWarning: Conversion of the second argument of issubdtype from `float` to `np.floating` is deprecated. In future, it will be treated as `np.float64 == np.dtype(float).type`.\n",
      "  from ._conv import register_converters as _register_converters\n",
      "Using TensorFlow backend.\n"
     ]
    }
   ],
   "source": [
    "import os\n",
    "# os.environ[\"CUDA_VISIBLE_DEVICES\"]=\"1\"\n",
    "import pandas as pd\n",
    "import numpy as np\n",
    "import matplotlib.pyplot as plt\n",
    "import matplotlib.image as mpimg\n",
    "import random\n",
    "from scipy.io import loadmat\n",
    "%matplotlib inline\n",
    "\n",
    "np.random.seed(2)\n",
    "import keras\n",
    "from keras.utils.np_utils import to_categorical # convert to one-hot-encoding\n",
    "from keras.models import Sequential\n",
    "from keras.layers import Dense, Dropout, Flatten, Conv2D, MaxPool2D, BatchNormalization\n",
    "from keras.optimizers import Adam\n",
    "from keras.preprocessing.image import ImageDataGenerator\n",
    "from keras.callbacks import LearningRateScheduler\n",
    "from sklearn.model_selection import train_test_split\n",
    "import itertools\n",
    "from keras.layers import Activation, Flatten\n",
    "from keras.layers.convolutional import Conv2D, MaxPooling2D, UpSampling2D\n",
    "from keras.layers import Input\n",
    "\n",
    "from keras import utils as np_utils\n",
    "from keras.models import Model\n",
    "from keras.optimizers import RMSprop\n",
    "from keras.callbacks import ReduceLROnPlateau\n",
    "\n",
    "from keras import regularizers\n",
    "from sklearn.metrics import confusion_matrix\n",
    "from scipy import misc\n",
    "\n",
    "from keras.callbacks import TensorBoard"
   ]
  },
  {
   "cell_type": "code",
   "execution_count": 2,
   "metadata": {},
   "outputs": [],
   "source": [
    "# load data\n",
    "data_path = \"./data.mat\"\n",
    "data_raw = loadmat(data_path)\n",
    "\n",
    "train_img = data_raw[\"train_img\"]\n",
    "test_img = data_raw[\"test_img\"]\n",
    "train_lbl = data_raw[\"train_lbl\"]"
   ]
  },
  {
   "cell_type": "markdown",
   "metadata": {},
   "source": [
    "## add noise"
   ]
  },
  {
   "cell_type": "code",
   "execution_count": 3,
   "metadata": {},
   "outputs": [],
   "source": [
    "def saltpepper(trn_data): \n",
    "    # input is a n*28*28*1 numpy array, reshape each row to a 28*28 matrix\n",
    "    row = trn_data.shape[0]\n",
    "    for i in range(row):\n",
    "        t = trn_data[i]\n",
    "        t = t.reshape((28, 28))\n",
    "        val = [1, 0]\n",
    "        ver_idx = random.randint(4, 15)\n",
    "        hor_idx = random.randint(4, 15)\n",
    "\n",
    "        t[ver_idx:(ver_idx+10), hor_idx:(hor_idx+10)] = np.random.choice(val, size=(10, 10))\n",
    "        \n",
    "        t = t.reshape((28,28,1))\n",
    "        trn_data[i] = t \n",
    "    return trn_data\n",
    "\n",
    "noise_factor = 100/255\n",
    "def gauss(trn_data):\n",
    "    # input is a n*28*28*1 numpy array, reshape each row to a 28*28 matrix\n",
    "    row = trn_data.shape[0]\n",
    "    for i in range(row):\n",
    "        t = trn_data[i]\n",
    "        t = t.reshape((28, 28))\n",
    "        t[4:24, 4:24] = t[4:24, 4:24] + noise_factor * np.random.normal(loc=0.0, scale=1.0, size=(20,20)) \n",
    "\n",
    "        t = t.reshape((28,28,1))\n",
    "        trn_data[i] = t\n",
    "    return trn_data"
   ]
  },
  {
   "cell_type": "code",
   "execution_count": 4,
   "metadata": {},
   "outputs": [
    {
     "name": "stdout",
     "output_type": "stream",
     "text": [
      "(80000, 28, 28, 1)\n",
      "(80000, 28, 28, 1)\n"
     ]
    }
   ],
   "source": [
    "random_seed = 2\n",
    "\n",
    "x_train_nor = np.reshape(train_img[0:20000], (len(train_img[0:20000]), 28, 28, 1))/255\n",
    "x_train_sp = np.reshape(train_img[20000:50000], (len(train_img[20000:50000]), 28, 28, 1))/255\n",
    "x_train_gs = np.reshape(train_img[20000:50000], (len(train_img[20000:50000]), 28, 28, 1))/255\n",
    "\n",
    "ae_x_lbl = np.concatenate((x_train_nor, x_train_sp, x_train_gs)) # \"labels\" for auto encoder\n",
    "\n",
    "ae_x_train_sp = saltpepper(x_train_sp)\n",
    "ae_x_train_gs = np.clip(gauss(x_train_gs), 0., 1.)\n",
    "\n",
    "ae_x_trn = np.concatenate((x_train_nor, ae_x_train_sp, ae_x_train_gs)) # \"features\" for auto encoder\n",
    "\n",
    "print(ae_x_lbl.shape)\n",
    "print(ae_x_trn.shape)"
   ]
  },
  {
   "cell_type": "markdown",
   "metadata": {},
   "source": [
    "### Train Auto Encoder"
   ]
  },
  {
   "cell_type": "code",
   "execution_count": 5,
   "metadata": {},
   "outputs": [
    {
     "name": "stdout",
     "output_type": "stream",
     "text": [
      "Train on 72000 samples, validate on 8000 samples\n",
      "Epoch 1/80\n",
      "72000/72000 [==============================] - 6s 82us/step - loss: 0.1487 - val_loss: 0.1201\n",
      "Epoch 2/80\n",
      "72000/72000 [==============================] - 5s 73us/step - loss: 0.1141 - val_loss: 0.1084\n",
      "Epoch 3/80\n",
      "72000/72000 [==============================] - 5s 73us/step - loss: 0.1081 - val_loss: 0.1043\n",
      "Epoch 4/80\n",
      "72000/72000 [==============================] - 5s 73us/step - loss: 0.1047 - val_loss: 0.1048\n",
      "Epoch 5/80\n",
      "72000/72000 [==============================] - 5s 72us/step - loss: 0.1024 - val_loss: 0.1013\n",
      "Epoch 6/80\n",
      "72000/72000 [==============================] - 5s 68us/step - loss: 0.1007 - val_loss: 0.0990\n",
      "Epoch 7/80\n",
      "72000/72000 [==============================] - 5s 69us/step - loss: 0.0994 - val_loss: 0.0995\n",
      "Epoch 8/80\n",
      "72000/72000 [==============================] - 5s 72us/step - loss: 0.0984 - val_loss: 0.0972\n",
      "Epoch 9/80\n",
      "72000/72000 [==============================] - 5s 72us/step - loss: 0.0975 - val_loss: 0.0975\n",
      "Epoch 10/80\n",
      "72000/72000 [==============================] - 5s 73us/step - loss: 0.0965 - val_loss: 0.0950\n",
      "Epoch 11/80\n",
      "72000/72000 [==============================] - 5s 73us/step - loss: 0.0960 - val_loss: 0.0947\n",
      "Epoch 12/80\n",
      "72000/72000 [==============================] - 5s 72us/step - loss: 0.0955 - val_loss: 0.0972\n",
      "Epoch 13/80\n",
      "72000/72000 [==============================] - 5s 73us/step - loss: 0.0950 - val_loss: 0.0953\n",
      "Epoch 14/80\n",
      "72000/72000 [==============================] - 5s 73us/step - loss: 0.0944 - val_loss: 0.0940\n",
      "Epoch 15/80\n",
      "72000/72000 [==============================] - 5s 72us/step - loss: 0.0941 - val_loss: 0.0942\n",
      "Epoch 16/80\n",
      "72000/72000 [==============================] - 5s 73us/step - loss: 0.0937 - val_loss: 0.0930\n",
      "Epoch 17/80\n",
      "72000/72000 [==============================] - 5s 73us/step - loss: 0.0933 - val_loss: 0.0926\n",
      "Epoch 18/80\n",
      "72000/72000 [==============================] - 5s 72us/step - loss: 0.0930 - val_loss: 0.0929\n",
      "Epoch 19/80\n",
      "72000/72000 [==============================] - 5s 72us/step - loss: 0.0926 - val_loss: 0.0919\n",
      "Epoch 20/80\n",
      "72000/72000 [==============================] - 5s 70us/step - loss: 0.0924 - val_loss: 0.0915\n",
      "Epoch 21/80\n",
      "72000/72000 [==============================] - 5s 65us/step - loss: 0.0921 - val_loss: 0.0912\n",
      "Epoch 22/80\n",
      "72000/72000 [==============================] - 5s 65us/step - loss: 0.0919 - val_loss: 0.0913\n",
      "Epoch 23/80\n",
      "72000/72000 [==============================] - 5s 65us/step - loss: 0.0917 - val_loss: 0.0924\n",
      "Epoch 24/80\n",
      "72000/72000 [==============================] - 5s 66us/step - loss: 0.0915 - val_loss: 0.0916\n",
      "Epoch 25/80\n",
      "72000/72000 [==============================] - 5s 65us/step - loss: 0.0914 - val_loss: 0.0906\n",
      "Epoch 26/80\n",
      "72000/72000 [==============================] - 5s 65us/step - loss: 0.0912 - val_loss: 0.0913\n",
      "Epoch 27/80\n",
      "72000/72000 [==============================] - 5s 65us/step - loss: 0.0909 - val_loss: 0.0906\n",
      "Epoch 28/80\n",
      "72000/72000 [==============================] - 5s 66us/step - loss: 0.0907 - val_loss: 0.0907\n",
      "Epoch 29/80\n",
      "72000/72000 [==============================] - 5s 65us/step - loss: 0.0906 - val_loss: 0.0903\n",
      "Epoch 30/80\n",
      "72000/72000 [==============================] - 5s 65us/step - loss: 0.0905 - val_loss: 0.0905\n",
      "Epoch 31/80\n",
      "72000/72000 [==============================] - 5s 65us/step - loss: 0.0903 - val_loss: 0.0906\n",
      "Epoch 32/80\n",
      "72000/72000 [==============================] - 5s 66us/step - loss: 0.0901 - val_loss: 0.0905\n",
      "Epoch 33/80\n",
      "72000/72000 [==============================] - 5s 65us/step - loss: 0.0901 - val_loss: 0.0905\n",
      "Epoch 34/80\n",
      "72000/72000 [==============================] - 5s 65us/step - loss: 0.0899 - val_loss: 0.0906\n",
      "Epoch 35/80\n",
      "72000/72000 [==============================] - 5s 65us/step - loss: 0.0899 - val_loss: 0.0894\n",
      "Epoch 36/80\n",
      "72000/72000 [==============================] - 5s 66us/step - loss: 0.0897 - val_loss: 0.0917\n",
      "Epoch 37/80\n",
      "72000/72000 [==============================] - 5s 74us/step - loss: 0.0896 - val_loss: 0.0896\n",
      "Epoch 38/80\n",
      "72000/72000 [==============================] - 5s 74us/step - loss: 0.0895 - val_loss: 0.0893\n",
      "Epoch 39/80\n",
      "72000/72000 [==============================] - 5s 74us/step - loss: 0.0894 - val_loss: 0.0893\n",
      "Epoch 40/80\n",
      "72000/72000 [==============================] - 5s 74us/step - loss: 0.0893 - val_loss: 0.0893\n",
      "Epoch 41/80\n",
      "72000/72000 [==============================] - 5s 74us/step - loss: 0.0892 - val_loss: 0.0895\n",
      "Epoch 42/80\n",
      "72000/72000 [==============================] - 5s 74us/step - loss: 0.0891 - val_loss: 0.0890\n",
      "Epoch 43/80\n",
      "72000/72000 [==============================] - 5s 73us/step - loss: 0.0890 - val_loss: 0.0890\n",
      "Epoch 44/80\n",
      "72000/72000 [==============================] - 5s 73us/step - loss: 0.0890 - val_loss: 0.0886\n",
      "Epoch 45/80\n",
      "72000/72000 [==============================] - 5s 74us/step - loss: 0.0888 - val_loss: 0.0887\n",
      "Epoch 46/80\n",
      "72000/72000 [==============================] - 5s 73us/step - loss: 0.0888 - val_loss: 0.0885\n",
      "Epoch 47/80\n",
      "72000/72000 [==============================] - 5s 73us/step - loss: 0.0888 - val_loss: 0.0899\n",
      "Epoch 48/80\n",
      "72000/72000 [==============================] - 5s 73us/step - loss: 0.0887 - val_loss: 0.0900\n",
      "Epoch 49/80\n",
      "72000/72000 [==============================] - 5s 73us/step - loss: 0.0886 - val_loss: 0.0886\n",
      "Epoch 50/80\n",
      "72000/72000 [==============================] - 5s 73us/step - loss: 0.0885 - val_loss: 0.0891\n",
      "Epoch 51/80\n",
      "72000/72000 [==============================] - 5s 73us/step - loss: 0.0885 - val_loss: 0.0886\n",
      "Epoch 52/80\n",
      "72000/72000 [==============================] - 5s 73us/step - loss: 0.0884 - val_loss: 0.0885\n",
      "Epoch 53/80\n",
      "72000/72000 [==============================] - 5s 74us/step - loss: 0.0884 - val_loss: 0.0886\n",
      "Epoch 54/80\n",
      "72000/72000 [==============================] - 5s 73us/step - loss: 0.0883 - val_loss: 0.0894\n",
      "Epoch 55/80\n",
      "72000/72000 [==============================] - 5s 73us/step - loss: 0.0882 - val_loss: 0.0885\n",
      "Epoch 56/80\n",
      "72000/72000 [==============================] - 5s 69us/step - loss: 0.0882 - val_loss: 0.0890\n",
      "Epoch 57/80\n",
      "72000/72000 [==============================] - 5s 73us/step - loss: 0.0881 - val_loss: 0.0884\n",
      "Epoch 58/80\n",
      "72000/72000 [==============================] - 5s 73us/step - loss: 0.0881 - val_loss: 0.0884\n",
      "Epoch 59/80\n",
      "72000/72000 [==============================] - 5s 73us/step - loss: 0.0881 - val_loss: 0.0894\n",
      "Epoch 60/80\n",
      "72000/72000 [==============================] - 5s 73us/step - loss: 0.0879 - val_loss: 0.0884\n",
      "Epoch 61/80\n",
      "72000/72000 [==============================] - 5s 73us/step - loss: 0.0879 - val_loss: 0.0896\n",
      "Epoch 62/80\n",
      "72000/72000 [==============================] - 5s 72us/step - loss: 0.0878 - val_loss: 0.0881\n",
      "Epoch 63/80\n",
      "72000/72000 [==============================] - 5s 69us/step - loss: 0.0878 - val_loss: 0.0880\n",
      "Epoch 64/80\n",
      "72000/72000 [==============================] - 5s 72us/step - loss: 0.0878 - val_loss: 0.0880\n",
      "Epoch 65/80\n",
      "72000/72000 [==============================] - 5s 73us/step - loss: 0.0877 - val_loss: 0.0878\n",
      "Epoch 66/80\n",
      "72000/72000 [==============================] - 5s 74us/step - loss: 0.0877 - val_loss: 0.0880\n",
      "Epoch 67/80\n",
      "72000/72000 [==============================] - 5s 73us/step - loss: 0.0877 - val_loss: 0.0879\n",
      "Epoch 68/80\n",
      "72000/72000 [==============================] - 5s 74us/step - loss: 0.0876 - val_loss: 0.0880\n",
      "Epoch 69/80\n",
      "72000/72000 [==============================] - 5s 73us/step - loss: 0.0875 - val_loss: 0.0878\n",
      "Epoch 70/80\n",
      "72000/72000 [==============================] - 5s 73us/step - loss: 0.0875 - val_loss: 0.0877\n",
      "Epoch 71/80\n",
      "72000/72000 [==============================] - 5s 73us/step - loss: 0.0875 - val_loss: 0.0876\n",
      "Epoch 72/80\n",
      "72000/72000 [==============================] - 5s 73us/step - loss: 0.0875 - val_loss: 0.0884\n",
      "Epoch 73/80\n",
      "72000/72000 [==============================] - 5s 73us/step - loss: 0.0874 - val_loss: 0.0892\n",
      "Epoch 74/80\n",
      "72000/72000 [==============================] - 5s 73us/step - loss: 0.0874 - val_loss: 0.0882\n",
      "Epoch 75/80\n",
      "72000/72000 [==============================] - 5s 73us/step - loss: 0.0873 - val_loss: 0.0879\n",
      "Epoch 76/80\n",
      "72000/72000 [==============================] - 5s 73us/step - loss: 0.0873 - val_loss: 0.0881\n",
      "Epoch 77/80\n",
      "72000/72000 [==============================] - 5s 70us/step - loss: 0.0873 - val_loss: 0.0878\n"
     ]
    },
    {
     "name": "stdout",
     "output_type": "stream",
     "text": [
      "Epoch 78/80\n",
      "72000/72000 [==============================] - 5s 68us/step - loss: 0.0872 - val_loss: 0.0879\n",
      "Epoch 79/80\n",
      "72000/72000 [==============================] - 5s 68us/step - loss: 0.0872 - val_loss: 0.0877\n",
      "Epoch 80/80\n",
      "72000/72000 [==============================] - 5s 68us/step - loss: 0.0872 - val_loss: 0.0882\n"
     ]
    },
    {
     "data": {
      "text/plain": [
       "<keras.callbacks.History at 0x7fa70722feb8>"
      ]
     },
     "execution_count": 5,
     "metadata": {},
     "output_type": "execute_result"
    }
   ],
   "source": [
    "#split data\n",
    "ae_trn_X, ae_val_X, ae_trn_lb, ae_val_lb = train_test_split(ae_x_trn,\n",
    "                                                             ae_x_lbl, \n",
    "                                                             test_size=0.1, \n",
    "                                                             random_state=13)\n",
    "\n",
    "input_img = Input(shape=(28, 28, 1))  # adapt this if using `channels_first` image data format\n",
    "\n",
    "x = Conv2D(32, (3, 3), activation='relu', padding='same')(input_img)\n",
    "x = MaxPooling2D((2, 2), padding='same')(x)\n",
    "x = Conv2D(32, (3, 3), activation='relu', padding='same')(x)\n",
    "encoded = MaxPooling2D((2, 2), padding='same')(x)\n",
    "\n",
    "# at this point the representation is (7, 7, 32)\n",
    "\n",
    "x = Conv2D(32, (3, 3), activation='relu', padding='same')(encoded)\n",
    "x = UpSampling2D((2, 2))(x)\n",
    "x = Conv2D(32, (3, 3), activation='relu', padding='same')(x)\n",
    "x = UpSampling2D((2, 2))(x)\n",
    "decoded = Conv2D(1, (3, 3), activation='sigmoid', padding='same')(x)\n",
    "\n",
    "autoencoder = Model(input_img, decoded)\n",
    "autoencoder.compile(optimizer='adadelta', loss='binary_crossentropy')\n",
    "\n",
    "autoencoder.fit(ae_trn_X, ae_trn_lb,\n",
    "                epochs=80,\n",
    "                batch_size=128,\n",
    "                shuffle=True,\n",
    "                validation_data=(ae_val_X, ae_val_lb),\n",
    "                callbacks=[TensorBoard(log_dir='/tmp/tb', histogram_freq=0, write_graph=False)])\n",
    "\n"
   ]
  },
  {
   "cell_type": "markdown",
   "metadata": {},
   "source": [
    "### Test Auto Encoder on the Test Set"
   ]
  },
  {
   "cell_type": "code",
   "execution_count": 6,
   "metadata": {},
   "outputs": [
    {
     "data": {
      "image/png": "[encoded data removed]",
      "text/plain": [
       "<matplotlib.figure.Figure at 0x7fa71c0d0438>"
      ]
     },
     "metadata": {},
     "output_type": "display_data"
    }
   ],
   "source": [
    "X_tst = np.reshape(test_img, (len(test_img), 28, 28, 1))/255 \n",
    "\n",
    "clean_tst = autoencoder.predict(X_tst, batch_size=128)\n",
    "\n",
    "length = clean_tst.shape[0]\n",
    "result_tst = np.zeros(shape=(length, 784))\n",
    "for i in range(length):\n",
    "    result_tst[i,:] = result_tst[i,:] + clean_tst[i].reshape(1, 784)\n",
    "\n",
    "result_viz = result_tst\n",
    "plt.figure(figsize=(20,10))\n",
    "for index, image in enumerate(result_viz[25:50]):\n",
    "    plt.subplot(5, 5, index + 1)\n",
    "    plt.imshow(np.reshape(image, (28,28)), cmap=plt.cm.gray)"
   ]
  },
  {
   "cell_type": "markdown",
   "metadata": {},
   "source": [
    "### KNN-Training Labels"
   ]
  },
  {
   "cell_type": "code",
   "execution_count": 7,
   "metadata": {},
   "outputs": [
    {
     "data": {
      "text/plain": [
       "(80000, 10)"
      ]
     },
     "execution_count": 7,
     "metadata": {},
     "output_type": "execute_result"
    }
   ],
   "source": [
    "# Encode labels to one hot vectors (ex : 2 -> [0,0,1,0,0,0,0,0,0,0])\n",
    "Y_trn_nor = train_lbl[0:20000]\n",
    "Y_trn_sp = train_lbl[20000:50000]\n",
    "Y_trn_gs = train_lbl[20000:50000]\n",
    "\n",
    "Y_trn_nor = np_utils.to_categorical(Y_trn_nor, num_classes = 10)\n",
    "Y_trn_sp = np_utils.to_categorical(Y_trn_sp, num_classes = 10)\n",
    "Y_trn_gs = np_utils.to_categorical(Y_trn_gs, num_classes = 10)\n",
    "\n",
    "Y_trn_all = np.concatenate((Y_trn_nor, Y_trn_sp, Y_trn_gs))\n",
    "Y_trn_all.shape"
   ]
  },
  {
   "cell_type": "markdown",
   "metadata": {},
   "source": [
    "### KNN-Training Features"
   ]
  },
  {
   "cell_type": "code",
   "execution_count": 8,
   "metadata": {},
   "outputs": [
    {
     "data": {
      "text/plain": [
       "(80000, 28, 28, 1)"
      ]
     },
     "execution_count": 8,
     "metadata": {},
     "output_type": "execute_result"
    }
   ],
   "source": [
    "X_trn_all = autoencoder.predict(ae_x_trn, batch_size=128)\n",
    "# X_tst is clean_tst\n",
    "X_trn_all.shape"
   ]
  },
  {
   "cell_type": "code",
   "execution_count": 9,
   "metadata": {},
   "outputs": [
    {
     "data": {
      "image/png": "[encoded data removed]",
      "text/plain": [
       "<matplotlib.figure.Figure at 0x7fa5e42c00f0>"
      ]
     },
     "metadata": {},
     "output_type": "display_data"
    }
   ],
   "source": [
    "plt.figure(figsize=(20,10))\n",
    "for index, image in enumerate(X_trn_all[random.sample(range(1, 60000), 25)]):\n",
    "    plt.subplot(5, 5, index + 1)\n",
    "    plt.imshow(np.reshape(image, (28,28)), cmap=plt.cm.gray)"
   ]
  },
  {
   "cell_type": "markdown",
   "metadata": {
    "collapsed": true
   },
   "source": [
    "## KNN"
   ]
  },
  {
   "cell_type": "code",
   "execution_count": 10,
   "metadata": {},
   "outputs": [],
   "source": [
    "from collections import Counter\n",
    "\n",
    "class simple_knn():\n",
    "\n",
    "    def __init__(self):\n",
    "        pass\n",
    "\n",
    "    def train(self, X, Y):\n",
    "        self.X_trn = X\n",
    "        self.Y_trn = Y\n",
    "\n",
    "    def predict(self, X, k=1):\n",
    "        dists = self.compute_distances(X)\n",
    "\n",
    "        num_test = dists.shape[0]\n",
    "        y_pred = np.zeros(num_test)\n",
    "\n",
    "        for i in range(num_test):\n",
    "            k_closest_y = []\n",
    "            labels = self.Y_trn[np.argsort(dists[i,:])].flatten()\n",
    "            k_closest_y = labels[:k]\n",
    "\n",
    "            c = Counter(k_closest_y)\n",
    "            y_pred[i] = c.most_common(1)[0][0]\n",
    "\n",
    "        return(y_pred)\n",
    "\n",
    "    def compute_distances(self, X):\n",
    "        num_test = X.shape[0]\n",
    "        num_train = self.X_trn.shape[0]\n",
    "\n",
    "        dot_pro = np.dot(X, self.X_trn.T)\n",
    "        sum_square_test = np.square(X).sum(axis = 1)\n",
    "        sum_square_train = np.square(self.X_trn).sum(axis = 1)\n",
    "        dists = np.sqrt(-2 * dot_pro + sum_square_train + np.matrix(sum_square_test).T)\n",
    "\n",
    "        return(dists)"
   ]
  },
  {
   "cell_type": "markdown",
   "metadata": {},
   "source": [
    "### KNN - Run on Test"
   ]
  },
  {
   "cell_type": "code",
   "execution_count": 11,
   "metadata": {},
   "outputs": [
    {
     "name": "stdout",
     "output_type": "stream",
     "text": [
      "Computing batch 1/10...\n",
      "Computing batch 2/10...\n",
      "Computing batch 3/10...\n",
      "Computing batch 4/10...\n",
      "Computing batch 5/10...\n",
      "Computing batch 6/10...\n",
      "Computing batch 7/10...\n",
      "Computing batch 8/10...\n",
      "Computing batch 9/10...\n",
      "Computing batch 10/10...\n",
      "Completed predicting the test data.\n"
     ]
    }
   ],
   "source": [
    "batch_size = 2000\n",
    "k = 5\n",
    "X_trn_KNN = np.reshape(X_trn_all, (len(X_trn_all), 784))\n",
    "X_tst_KNN = np.reshape(clean_tst, (len(clean_tst), 784))\n",
    "Y_trn_nor = train_lbl[0:20000]\n",
    "Y_trn_sp = train_lbl[20000:50000]\n",
    "Y_trn_gs = train_lbl[20000:50000]\n",
    "Y_trn_KNN = np.concatenate((Y_trn_nor, Y_trn_sp, Y_trn_gs))\n",
    "\n",
    "classifier = simple_knn()\n",
    "classifier.train(X_trn_KNN, Y_trn_KNN)\n",
    "\n",
    "predictions = []\n",
    "\n",
    "for i in range(int(len(X_tst_KNN)/batch_size)):\n",
    "\n",
    "    print(\"Computing batch \" + str(i+1) + \"/\" + str(int(len(X_tst_KNN)/batch_size)) + \"...\")\n",
    "\n",
    "    predts = classifier.predict(X_tst_KNN[i * batch_size:(i+1) * batch_size], k)\n",
    "\n",
    "    predictions = predictions + list(predts)\n",
    "\n",
    "print(\"Completed predicting the test data.\")\n",
    "\n",
    "Output = open(\"KNN.csv\", \"w\")\n",
    "Output.write(\"ID,Prediction\\n\")\n",
    "for i in range(len(predictions)):\n",
    "    Output.write(str(i+1) + \",\" + str(int(predictions[i])) + \"\\n\")\n",
    "Output.close()"
   ]
  },
  {
   "cell_type": "markdown",
   "metadata": {},
   "source": [
    "### KNN - Training Process"
   ]
  },
  {
   "cell_type": "code",
   "execution_count": 12,
   "metadata": {},
   "outputs": [
    {
     "name": "stdout",
     "output_type": "stream",
     "text": [
      "Computing batch 1/10...\n",
      "Computing batch 2/10...\n",
      "Computing batch 3/10...\n",
      "Computing batch 4/10...\n",
      "Computing batch 5/10...\n",
      "Computing batch 6/10...\n",
      "Computing batch 7/10...\n",
      "Computing batch 8/10...\n",
      "Computing batch 9/10...\n",
      "Computing batch 10/10...\n",
      "Completed predicting the test data.\n",
      "Normalized confusion matrix\n",
      "[[0.99119497 0.00125786 0.00377358 0.         0.         0.\n",
      "  0.00251572 0.         0.00125786 0.        ]\n",
      " [0.         0.99546999 0.0011325  0.         0.00226501 0.\n",
      "  0.0011325  0.         0.         0.        ]\n",
      " [0.00869565 0.00745342 0.95900621 0.00372671 0.00248447 0.\n",
      "  0.00496894 0.00372671 0.00869565 0.00124224]\n",
      " [0.00119617 0.00837321 0.00598086 0.9437799  0.         0.01196172\n",
      "  0.00239234 0.00358852 0.02033493 0.00239234]\n",
      " [0.         0.01790281 0.         0.         0.94373402 0.\n",
      "  0.01150895 0.00383632 0.         0.0230179 ]\n",
      " [0.0027248  0.0013624  0.         0.02588556 0.0027248  0.93188011\n",
      "  0.01634877 0.0027248  0.01089918 0.00544959]\n",
      " [0.         0.00249377 0.         0.         0.00249377 0.0074813\n",
      "  0.98628429 0.         0.00124688 0.        ]\n",
      " [0.         0.00879397 0.00125628 0.         0.00628141 0.\n",
      "  0.         0.95351759 0.00125628 0.02889447]\n",
      " [0.00251572 0.00880503 0.00377358 0.02389937 0.00628931 0.02264151\n",
      "  0.00251572 0.00251572 0.90943396 0.01761006]\n",
      " [0.00518135 0.00518135 0.00259067 0.00647668 0.01554404 0.00129534\n",
      "  0.         0.0246114  0.         0.93911917]]\n"
     ]
    },
    {
     "data": {
      "image/png": "[encoded data removed]",
      "text/plain": [
       "<matplotlib.figure.Figure at 0x7fa6ce377d68>"
      ]
     },
     "metadata": {},
     "output_type": "display_data"
    }
   ],
   "source": [
    "X_train, X_val, Y_train, Y_val = train_test_split(X_trn_KNN, Y_trn_KNN, test_size = 0.1, random_state=random_seed)\n",
    "\n",
    "batch_size = 800\n",
    "k = 5\n",
    "classifier = simple_knn()\n",
    "classifier.train(X_train, Y_train)\n",
    "\n",
    "trn_predict = []\n",
    "\n",
    "for i in range(int(len(X_val)/batch_size)):\n",
    "\n",
    "    print(\"Computing batch \" + str(i+1) + \"/\" + str(int(len(X_val)/batch_size)) + \"...\")\n",
    "\n",
    "    predts = classifier.predict(X_val[i * batch_size:(i+1) * batch_size], k)\n",
    "\n",
    "    trn_predict = trn_predict + list(predts)\n",
    "\n",
    "print(\"Completed predicting the test data.\")\n",
    "\n",
    "cnf_matrix = confusion_matrix(Y_val, trn_predict)\n",
    "\n",
    "def plot_confusion_matrix(cm, classes,\n",
    "                          normalize=False,\n",
    "                          title='Confusion matrix',\n",
    "                          cmap=plt.cm.Blues):\n",
    "    \"\"\"\n",
    "    This function prints and plots the confusion matrix.\n",
    "    Normalization can be applied by setting `normalize=True`.\n",
    "    \"\"\"\n",
    "    if normalize:\n",
    "        cm = cm.astype('float') / cm.sum(axis=1)[:, np.newaxis]\n",
    "        print(\"Normalized confusion matrix\")\n",
    "    else:\n",
    "        print('Confusion matrix, without normalization')\n",
    "\n",
    "    print(cm)\n",
    "\n",
    "    plt.imshow(cm, interpolation='nearest', cmap=cmap)\n",
    "    plt.title(title)\n",
    "    plt.colorbar()\n",
    "    tick_marks = np.arange(len(classes))\n",
    "    plt.xticks(tick_marks, classes, rotation=45)\n",
    "    plt.yticks(tick_marks, classes)\n",
    "\n",
    "    fmt = '.2f' if normalize else 'd'\n",
    "    thresh = cm.max() / 2.\n",
    "    for i, j in itertools.product(range(cm.shape[0]), range(cm.shape[1])):\n",
    "        plt.text(j, i, format(cm[i, j], fmt),\n",
    "                 horizontalalignment=\"center\",\n",
    "                 color=\"white\" if cm[i, j] > thresh else \"black\")\n",
    "\n",
    "    plt.tight_layout()\n",
    "    plt.ylabel('True label')\n",
    "    plt.xlabel('Predicted label')\n",
    "    \n",
    "    \n",
    "\n",
    "# Plot normalized confusion matrix\n",
    "plt.figure()\n",
    "plot_confusion_matrix(cnf_matrix,  classes=[0,1,2,3,4,5,6,7,8,9],normalize=True)\n",
    "\n",
    "plt.show()"
   ]
  },
  {
   "cell_type": "code",
   "execution_count": null,
   "metadata": {},
   "outputs": [],
   "source": []
  }
 ],
 "metadata": {
  "kernelspec": {
   "display_name": "Python 3",
   "language": "python",
   "name": "python3"
  },
  "language_info": {
   "codemirror_mode": {
    "name": "ipython",
    "version": 3
   },
   "file_extension": ".py",
   "mimetype": "text/x-python",
   "name": "python",
   "nbconvert_exporter": "python",
   "pygments_lexer": "ipython3",
   "version": "3.6.5"
  }
 },
 "nbformat": 4,
 "nbformat_minor": 2
}
